{
 "cells": [
  {
   "cell_type": "code",
   "execution_count": null,
   "metadata": {},
   "outputs": [],
   "source": [
    "import import_ipynb\n",
    "%run CICIDS_2018_data_preprocessing.ipynb\n",
    "%run model.ipynb\n"
   ]
  },
  {
   "cell_type": "code",
   "execution_count": null,
   "metadata": {},
   "outputs": [],
   "source": [
    "meta_accuracy, y_meta_test, meta_predictions, labels = Meta_CyberIDS(X_train, y_train, X_val, y_val, X_test, y_test, labels)\n",
    "print(f\"CICIDS_2018_Meta_CyberIDS_accuracy: {meta_accuracy}\")"
   ]
  },
  {
   "cell_type": "code",
   "execution_count": null,
   "metadata": {},
   "outputs": [],
   "source": [
    "from sklearn.metrics import confusion_matrix, classification_report\n",
    "import matplotlib.pyplot as plt\n",
    "import seaborn as sns\n",
    "\n",
    "# Ensure labels match the unique classes in y_meta_test\n",
    "labels = sorted(set(y_meta_test))\n",
    "\n",
    "# Confusion Matrix\n",
    "cm_meta = confusion_matrix(y_meta_test, meta_predictions, labels=labels)\n",
    "plt.figure(figsize=(16, 12))\n",
    "sns.heatmap(cm_meta, annot=True, fmt='g', cmap='Blues', xticklabels=labels, yticklabels=labels, annot_kws={\"size\": 8})\n",
    "plt.title(\"CICIDS_2018_Meta_CyberIDS Confusion Matrix\", fontsize=14)\n",
    "plt.xlabel('Predicted Labels', fontsize=12)\n",
    "plt.ylabel('True Labels', fontsize=12)\n",
    "plt.show()\n",
    "\n",
    "# Classification Report\n",
    "print(\"CICIDS_2018_Meta_CyberIDS Classification Report:\")\n",
    "print(classification_report(y_meta_test, meta_predictions, target_names=[str(label) for label in labels]))\n"
   ]
  },
  {
   "cell_type": "code",
   "execution_count": null,
   "metadata": {},
   "outputs": [],
   "source": [
    "env_details, package_versions = get_environment_details()\n",
    "display_environment_table(env_details, package_versions)\n"
   ]
  }
 ],
 "metadata": {
  "kernelspec": {
   "display_name": "alvy",
   "language": "python",
   "name": "python3"
  },
  "language_info": {
   "codemirror_mode": {
    "name": "ipython",
    "version": 3
   },
   "file_extension": ".py",
   "mimetype": "text/x-python",
   "name": "python",
   "nbconvert_exporter": "python",
   "pygments_lexer": "ipython3",
   "version": "3.10.12"
  }
 },
 "nbformat": 4,
 "nbformat_minor": 2
}
