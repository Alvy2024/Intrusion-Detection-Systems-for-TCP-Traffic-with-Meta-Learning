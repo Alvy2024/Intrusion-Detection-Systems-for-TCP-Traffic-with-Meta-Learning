{
 "cells": [
  {
   "cell_type": "code",
   "execution_count": 1,
   "metadata": {},
   "outputs": [],
   "source": [
    "import pandas as pd\n",
    "\n",
    "# Read the Parquet file\n",
    "df = pd.read_parquet('./CICIDS_2019/cic-collection.parquet')\n",
    "\n",
    "# Convert the data to a CSV file\n",
    "df.to_csv('./CICIDS_2019/cic-collection.csv', index=False)\n"
   ]
  },
  {
   "cell_type": "code",
   "execution_count": 2,
   "metadata": {},
   "outputs": [
    {
     "name": "stdout",
     "output_type": "stream",
     "text": [
      "Data successfully split and saved:\n",
      "Train set: C:/Users/Monet/Desktop/TCPCyberIDS/CICIDS\\train.csv\n",
      "Validation set: C:/Users/Monet/Desktop/TCPCyberIDS/CICIDS\\val.csv\n",
      "Test set: C:/Users/Monet/Desktop/TCPCyberIDS/CICIDS\\test.csv\n"
     ]
    }
   ],
   "source": [
    "import pandas as pd\n",
    "import numpy as np\n",
    "import os\n",
    "\n",
    "folder_path = r\"./CICIDS_2019/cic-collection.csv\"\n",
    "\n",
    "df = pd.read_csv(folder_path)\n",
    "\n",
    "np.random.seed(42)\n",
    "\n",
    "df = df.sample(frac=1).reset_index(drop=True)\n",
    "\n",
    "train_size = int(len(df) * 0.7)\n",
    "valid_size = int(len(df) * 0.15)\n",
    "\n",
    "train_df = df[:train_size]\n",
    "valid_df = df[train_size:train_size + valid_size]\n",
    "test_df = df[train_size + valid_size:]\n",
    "\n",
    "output_dir = os.path.dirname(folder_path)\n",
    "train_path = os.path.join(output_dir, \"train.csv\")\n",
    "valid_path = os.path.join(output_dir, \"val.csv\")\n",
    "test_path = os.path.join(output_dir, \"test.csv\")\n",
    "\n",
    "train_df.to_csv(train_path, index=False)\n",
    "valid_df.to_csv(valid_path, index=False)\n",
    "test_df.to_csv(test_path, index=False)\n",
    "\n",
    "print(f\"Data successfully split and saved:\")\n",
    "print(f\"Train set: {train_path}\")\n",
    "print(f\"Validation set: {valid_path}\")\n",
    "print(f\"Test set: {test_path}\")\n"
   ]
  }
 ],
 "metadata": {
  "language_info": {
   "name": "python"
  }
 },
 "nbformat": 4,
 "nbformat_minor": 2
}
