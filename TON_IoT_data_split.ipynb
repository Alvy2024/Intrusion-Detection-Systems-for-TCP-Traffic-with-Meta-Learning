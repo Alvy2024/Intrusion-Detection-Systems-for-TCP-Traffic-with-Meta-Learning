{
 "cells": [
  {
   "cell_type": "code",
   "execution_count": 3,
   "metadata": {},
   "outputs": [
    {
     "name": "stdout",
     "output_type": "stream",
     "text": [
      "Dataset loaded with 461043 rows and 45 columns.\n",
      "Training set: 322730 rows\n",
      "Validation set: 69156 rows\n",
      "Test set: 69157 rows\n",
      "Files saved to ./TON_IoT/\n"
     ]
    }
   ],
   "source": [
    "import os\n",
    "import pandas as pd\n",
    "from sklearn.model_selection import train_test_split\n",
    "\n",
    "# Configurable parameters\n",
    "input_file = './TON_IoT/TON_IoT_Train_Test_Network.csv'\n",
    "output_folder = './TON_IoT/'\n",
    "train_ratio = 0.7\n",
    "val_test_ratio = 0.15 / (0.15 + 0.15)\n",
    "random_seed = 42\n",
    "\n",
    "# Ensure the output directory exists\n",
    "os.makedirs(output_folder, exist_ok=True)\n",
    "\n",
    "# Check if the input file exists\n",
    "if not os.path.exists(input_file):\n",
    "    raise FileNotFoundError(f\"Input file not found: {input_file}\")\n",
    "\n",
    "# Load the dataset\n",
    "data = pd.read_csv(input_file)\n",
    "print(f\"Dataset loaded with {data.shape[0]} rows and {data.shape[1]} columns.\")\n",
    "\n",
    "# Split the data into training and remaining sets\n",
    "train_data, remaining_data = train_test_split(\n",
    "    data, test_size=1-train_ratio, random_state=random_seed, shuffle=True\n",
    ")\n",
    "\n",
    "# Split the remaining data into validation and test sets\n",
    "val_data, test_data = train_test_split(\n",
    "    remaining_data, test_size=1-val_test_ratio, random_state=random_seed, shuffle=True\n",
    ")\n",
    "\n",
    "# Print the sizes of each split\n",
    "print(f\"Training set: {train_data.shape[0]} rows\")\n",
    "print(f\"Validation set: {val_data.shape[0]} rows\")\n",
    "print(f\"Test set: {test_data.shape[0]} rows\")\n",
    "\n",
    "# Define output file paths\n",
    "train_file = os.path.join(output_folder, 'train.csv')\n",
    "val_file = os.path.join(output_folder, 'val.csv')\n",
    "test_file = os.path.join(output_folder, 'test.csv')\n",
    "\n",
    "# Save the splits to CSV files\n",
    "train_data.to_csv(train_file, index=False)\n",
    "val_data.to_csv(val_file, index=False)\n",
    "test_data.to_csv(test_file, index=False)\n",
    "\n",
    "print(f\"Files saved to {output_folder}\")\n"
   ]
  }
 ],
 "metadata": {
  "kernelspec": {
   "display_name": "alvy",
   "language": "python",
   "name": "python3"
  },
  "language_info": {
   "codemirror_mode": {
    "name": "ipython",
    "version": 3
   },
   "file_extension": ".py",
   "mimetype": "text/x-python",
   "name": "python",
   "nbconvert_exporter": "python",
   "pygments_lexer": "ipython3",
   "version": "3.10.12"
  }
 },
 "nbformat": 4,
 "nbformat_minor": 2
}
