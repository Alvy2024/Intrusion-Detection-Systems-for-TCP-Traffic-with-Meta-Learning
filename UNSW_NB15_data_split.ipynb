{
 "cells": [
  {
   "cell_type": "code",
   "execution_count": null,
   "metadata": {},
   "outputs": [
    {
     "name": "stdout",
     "output_type": "stream",
     "text": [
      "Files merged successfully and saved to C:/Users/Monet/Desktop/TCPCyberIDS/UNSW_NB15/dataset.csv\n"
     ]
    }
   ],
   "source": [
    "import pandas as pd\n",
    "\n",
    "# Define file paths\n",
    "file1_path = \"./UNSW_NB15/UNSW_NB15_testing-set.csv\"\n",
    "file2_path = \"./UNSW_NB15/UNSW_NB15_training-set.csv\"\n",
    "output_path = \"./UNSW_NB15/dataset.csv\"\n",
    "\n",
    "# Read the two CSV files\n",
    "df1 = pd.read_csv(file1_path)\n",
    "df2 = pd.read_csv(file2_path)\n",
    "\n",
    "# Merge the two DataFrames\n",
    "merged_df = pd.concat([df1, df2], ignore_index=True)\n",
    "\n",
    "# Save the merged DataFrame to a new CSV file\n",
    "merged_df.to_csv(output_path, index=False)\n",
    "\n",
    "# Print a message indicating completion\n",
    "print(f\"Files merged successfully and saved to {output_path}\")\n"
   ]
  },
  {
   "cell_type": "code",
   "execution_count": 1,
   "metadata": {},
   "outputs": [
    {
     "name": "stdout",
     "output_type": "stream",
     "text": [
      "Data successfully split and saved:\n",
      "Train set: C:/Users/Monet/Desktop/TCPCyberIDS/UNSW_NB15\\train.csv\n",
      "Validation set: C:/Users/Monet/Desktop/TCPCyberIDS/UNSW_NB15\\val.csv\n",
      "Test set: C:/Users/Monet/Desktop/TCPCyberIDS/UNSW_NB15\\test.csv\n"
     ]
    }
   ],
   "source": [
    "import pandas as pd\n",
    "import numpy as np\n",
    "import os\n",
    "\n",
    "folder_path = \"./UNSW_NB15/dataset.csv\"\n",
    "\n",
    "df = pd.read_csv(folder_path)\n",
    "\n",
    "np.random.seed(42)\n",
    "\n",
    "df = df.sample(frac=1).reset_index(drop=True)\n",
    "\n",
    "train_size = int(len(df) * 0.7)\n",
    "valid_size = int(len(df) * 0.15)\n",
    "\n",
    "train_df = df[:train_size]\n",
    "valid_df = df[train_size:train_size + valid_size]\n",
    "test_df = df[train_size + valid_size:]\n",
    "\n",
    "output_dir = os.path.dirname(folder_path)\n",
    "train_path = os.path.join(output_dir, \"train.csv\")\n",
    "valid_path = os.path.join(output_dir, \"val.csv\")\n",
    "test_path = os.path.join(output_dir, \"test.csv\")\n",
    "\n",
    "train_df.to_csv(train_path, index=False)\n",
    "valid_df.to_csv(valid_path, index=False)\n",
    "test_df.to_csv(test_path, index=False)\n",
    "\n",
    "print(f\"Data successfully split and saved:\")\n",
    "print(f\"Train set: {train_path}\")\n",
    "print(f\"Validation set: {valid_path}\")\n",
    "print(f\"Test set: {test_path}\")\n"
   ]
  }
 ],
 "metadata": {
  "language_info": {
   "name": "python"
  }
 },
 "nbformat": 4,
 "nbformat_minor": 2
}
